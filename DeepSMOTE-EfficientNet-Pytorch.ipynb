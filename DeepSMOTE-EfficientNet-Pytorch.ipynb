{
 "cells": [
  {
   "cell_type": "markdown",
   "metadata": {
    "id": "bx31OfN1Yj_M"
   },
   "source": [
    "# DEEPSMOTE + EFFICIENTNET"
   ]
  },
  {
   "cell_type": "markdown",
   "metadata": {
    "id": "60SuTS5cYujl"
   },
   "source": [
    "## I. Introduction"
   ]
  },
  {
   "cell_type": "markdown",
   "metadata": {
    "id": "ZxkCiqedZBWj"
   },
   "source": [
    "### a. Library Python"
   ]
  },
  {
   "cell_type": "code",
   "execution_count": null,
   "metadata": {
    "id": "1CgSTiA3ZNHs"
   },
   "outputs": [],
   "source": [
    "args = {}\n",
    "# path of file\n"
   ]
  },
  {
   "cell_type": "markdown",
   "metadata": {
    "id": "IxZJaH3cdADK"
   },
   "source": [
    "### e. Encoder"
   ]
  },
  {
   "cell_type": "code",
   "execution_count": null,
   "metadata": {
    "id": "8xCowQ0XdJuB"
   },
   "outputs": [],
   "source": [
    "class Encoder(nn.Module):\n",
    "    def __init__(self):\n",
    "        super(Encoder, self).__init__()#args=>channel=3\n",
    "\n",
    "        self.channel_img = args['channel_img'] # 3 rgb\n",
    "        self.hidden_size = args['hidden_size'] #64 neuron\n",
    "        self.flatten_size = args['flatten_size'] #100 feature extraction\n",
    "\n",
    "        self.conv = nn.Sequential(\n",
    "            nn.Conv2d(self.channel_img, self.hidden_size, 4, 2, 1, bias=False),\n",
    "            nn.LeakyReLU(0.2, inplace=True),\n",
    "\n",
    "            nn.Conv2d(self.hidden_size, self.hidden_size*2, 4, 2, 1, bias=False),\n",
    "            nn.BatchNorm2d(self.hidden_size*2),\n",
    "            nn.LeakyReLU(0.2, inplace=True),\n",
    "\n",
    "            nn.Conv2d(self.hidden_size * 2, self.hidden_size * 4, 4, 2, 1, bias=False),\n",
    "            nn.BatchNorm2d(self.hidden_size*4),\n",
    "            nn.LeakyReLU(0.2, inplace=True),\n",
    "\n",
    "            nn.Conv2d(self.hidden_size * 4, self.hidden_size * 8, 4, 2, 1, bias=False),\n",
    "\n",
    "            nn.BatchNorm2d(self.hidden_size * 8),\n",
    "            nn.LeakyReLU(0.2, inplace=True),\n",
    "        )\n",
    "\n",
    "        self.fc = nn.Linear(self.hidden_size * (2**3) *14*14, self.flatten_size)\n",
    "\n",
    "    def forward(self, x):\n",
    "        x = self.fc(self.conv(x).reshape(x.size(0), -1))\n",
    "        return x"
   ]
  },
  {
   "cell_type": "markdown",
   "metadata": {
    "id": "0oQ3wDP8dRWT"
   },
   "source": [
    "### f. Decoder"
   ]
  },
  {
   "cell_type": "code",
   "execution_count": null,
   "metadata": {
    "id": "zR47J2a2dT0p"
   },
   "outputs": [],
   "source": [
    "class Decoder(nn.Module):\n",
    "    def __init__(self):\n",
    "        super(Decoder, self).__init__()\n",
    "\n",
    "        #setting arguments\n",
    "        self.channel_img = args['channel_img']\n",
    "        self.hidden_size = args['hidden_size']\n",
    "        self.flatten_size = args['flatten_size']\n",
    "\n",
    "        #layers decoder\n",
    "        self.fc = nn.Sequential(\n",
    "            nn.Linear(self.flatten_size, self.hidden_size * 8 * 14 * 14),\n",
    "            nn.ReLU(0.2)\n",
    "        )\n",
    "\n",
    "        self.deconv = nn.Sequential(\n",
    "            nn.ConvTranspose2d(self.hidden_size * 8, self.hidden_size * 4, 4,2, 1, bias=False),\n",
    "            nn.BatchNorm2d(self.hidden_size * 4),\n",
    "            nn.ReLU(True),\n",
    "\n",
    "            nn.ConvTranspose2d(self.hidden_size * 4, self.hidden_size *2, 4,2, 1, bias=False),\n",
    "            nn.BatchNorm2d(self.hidden_size * 2),\n",
    "            nn.ReLU(True),\n",
    "\n",
    "            nn.ConvTranspose2d(self.hidden_size * 2, self.hidden_size, 4,2, 1, bias=False),\n",
    "            nn.BatchNorm2d(self.hidden_size),\n",
    "            nn.ReLU(True),\n",
    "\n",
    "            nn.ConvTranspose2d(self.hidden_size, self.channel_img, 4,2, 1, bias=False),\n",
    "            nn.Tanh()\n",
    "        )\n",
    "\n",
    "    def forward(self, x):\n",
    "        x = self.deconv(self.fc(x).reshape(x.size(0), self.hidden_size * 8, 14, 14))\n",
    "        return x"
   ]
  },
  {
   "cell_type": "markdown",
   "metadata": {
    "id": "3hYtff0jdcJL"
   },
   "source": [
    "### g. DeepSMOTE"
   ]
  },
  {
   "cell_type": "code",
   "execution_count": null,
   "metadata": {
    "id": "Vp_boA-odaHy"
   },
   "outputs": [],
   "source": [
    "class DeepSMOTE:\n",
    "  def __init__(self, encoder, decoder):\n",
    "    self.encoder,self.decoder,self.criterion, self.epochs = encoder, decoder, nn.MSELoss(), args['epochs']\n",
    "\n",
    "  def compile(self, optim, lr):\n",
    "    if optim =='adam':\n",
    "      self.enc_optimizer = torch.optim.Adam(self.encoder.parameters(), lr=lr)\n",
    "      self.dec_optimizer = torch.optim.Adam(self.decoder.parameters(), lr=lr)\n",
    "\n",
    "  def preprocess(self, X):\n",
    "    self.minibatch = X\n",
    "    self.data_x, self.data_y = self.minibatch['images'].permute(0,3,1,2)/255.0, self.minibatch['class']\n",
    "\n",
    "    self.classes = torch.unique(self.minibatch['class']).numpy()\n",
    "\n",
    "    self.dataTensor = TensorDataset(self.data_x, self.data_y)\n",
    "    self.train_loader = DataLoader(self.dataTensor, batch_size = 100, shuffle=True, num_workers = 0)\n",
    "\n",
    "  def save_encode_decode(self, level):\n",
    "    torch.save(self.encoder.state_dict(), args['oversample']+level+\"_encode.pth\")\n",
    "    torch.save(self.decoder.state_dict(), args['oversample']+level+\"_decode.pth\")\n",
    "\n",
    "  def SMOTE(self, X, n_generate, Class):\n",
    "    #knn training for nearest neighbor\n",
    "    kNN = NearestNeighbors(n_neighbors=5, n_jobs=1)\n",
    "    kNN.fit(X)\n",
    "    dist, ind = kNN.kneighbors(X)\n",
    "\n",
    "    #generatting random index\n",
    "    base = np.random.choice(list(range(len(X))), n_generate)\n",
    "    NNindex = np.random.choice(list(range(5)), n_generate)\n",
    "\n",
    "    #locating index at X\n",
    "    X_base = X[base]\n",
    "    X_nn = X[ind[base, NNindex]]\n",
    "\n",
    "    #generate\n",
    "    generate_sample = X_base + torch.mul(torch.from_numpy(np.random.rand(n_generate,1)),\n",
    "                                         X_nn - X_base)\n",
    "\n",
    "    return generate_sample, torch.tensor([Class]*n_generate)\n",
    "\n",
    "  def fit(self, X, device):\n",
    "    self.encoder = self.encoder.to(device)\n",
    "    self.decoder = self.decoder.to(device)\n",
    "    self.criterion = self.criterion.to(device)\n",
    "    self.perform = {'train_loss':[], 'rec_loss':[], 'penalty_loss':[]}\n",
    "\n",
    "    self.preprocess(X)\n",
    "    self.compile('adam', args['lr'])\n",
    "    time_start = time.time()\n",
    "    best_loss = 99\n",
    "\n",
    "    #training with epoch\n",
    "    for epoch in range(self.epochs):\n",
    "      train_loss, rec_loss, penalty_loss = 0, 0, 0\n",
    "      self.encoder.train()\n",
    "      self.decoder.train()\n",
    "\n",
    "      # batching on train_loader\n",
    "      for images, labels in self.train_loader:\n",
    "        self.encoder.zero_grad()\n",
    "        self.decoder.zero_grad()\n",
    "\n",
    "        images = images.to(device)\n",
    "        labels_np = labels.detach().cpu().numpy()\n",
    "\n",
    "        #encode-decode every batch\n",
    "        mse = self.criterion(self.decoder(self.encoder(images)), images)\n",
    "\n",
    "        #select class dan pengacakan class (CD)\n",
    "        class_cd = np.random.choice(self.classes)\n",
    "        x_cd,y_cd = images[labels == class_cd], labels[labels == class_cd]\n",
    "\n",
    "        size_x = len(x_cd)\n",
    "        i_shuffle = np.random.choice(list(range(size_x)), size_x, replace = False )\n",
    "        xclass_cd, yclass_cd = images[i_shuffle], labels[i_shuffle]\n",
    "\n",
    "        #Pengacakan anggota class CD menjadi cb\n",
    "        size_cd = len(xclass_cd)\n",
    "        j_shuffle = np.random.choice(list(range(size_cd)), size_cd, replace = False)\n",
    "        xclass_cb = xclass_cd[j_shuffle]\n",
    "\n",
    "        #encode xclass cd\n",
    "        xclass_cd = xclass_cd.to(device)\n",
    "        xclass_es = self.encoder(xclass_cd).detach()\n",
    "\n",
    "        #permute encode cd #menggunakan pengacakan cb, indeksnya akan dicocokan dengan CD sebelum diekstrak\n",
    "        xclass_pe = xclass_es[j_shuffle]\n",
    "\n",
    "        #decode dp\n",
    "        xclass_pe = xclass_pe.to(device)\n",
    "        xclass_dp = self.decoder(xclass_pe)\n",
    "\n",
    "        #penalty loss\n",
    "        mse2 = self.criterion(xclass_dp, xclass_cb)\n",
    "\n",
    "        combo_loss = mse + mse2\n",
    "        combo_loss.backward()\n",
    "\n",
    "        self.enc_optimizer.step()\n",
    "        self.dec_optimizer.step()\n",
    "\n",
    "        train_loss += combo_loss.item()\n",
    "        rec_loss += mse.item()\n",
    "        penalty_loss += mse2.item()\n",
    "\n",
    "      #hitung training loss setiap epoch berdasarkan jumlah train loader\n",
    "      train_loss = train_loss / len(self.train_loader)\n",
    "      rec_loss = rec_loss / len(self.train_loader)\n",
    "      penalty_loss = penalty_loss / len(self.train_loader)\n",
    "      # 'train_loss':[], 'rec_loss':[], 'penalty_loss':[]}\n",
    "\n",
    "      self.perform['train_loss'].append(train_loss)\n",
    "      self.perform['rec_loss'].append(rec_loss)\n",
    "      self.perform['penalty_loss'].append(penalty_loss)\n",
    "      print(f\"Epoch :{epoch+1} Train Loss: {train_loss} Rec Loss: {rec_loss} Penalty_loss: {penalty_loss}\")\n",
    "\n",
    "      if train_loss < best_loss:\n",
    "        print(\"Menyimpan Model ....\")\n",
    "        self.save_encode_decode(\"best\")\n",
    "        best_loss = train_loss\n",
    "\n",
    "    time_stop = time.time()\n",
    "    self.timer = (time_stop - time_start)/60\n",
    "\n",
    "    save_cachedImg(args['oversample']+\"_perform.pkl\",self.perform)\n",
    "\n",
    "  def generate_samples(self, limit, target, device):\n",
    "\n",
    "    self.path_encoder = args['oversample']+\"best_encode.pth\"\n",
    "    self.path_decoder = args['oversample']+\"best_decode.pth\"\n",
    "    self.gen_timer = time.time()\n",
    "    self.encoder.load_state_dict(torch.load(self.path_encoder, map_location=device), strict=False)\n",
    "    self.decoder.load_state_dict(torch.load(self.path_decoder, map_location=device), strict=False)\n",
    "\n",
    "    self.encoder.to(device)\n",
    "    self.decoder.to(device)\n",
    "\n",
    "    self.encoder.eval()\n",
    "    self.decoder.eval()\n",
    "\n",
    "    gen_x = []\n",
    "    gen_y = []\n",
    "    for cls in self.classes:\n",
    "\n",
    "      # process data\n",
    "      x_class, y_class = self.data_x[self.data_y == cls], self.data_y[self.data_y == cls]\n",
    "      x_class_l, y_class_l = x_class[:limit], y_class[:limit]\n",
    "      x_class_l = x_class_l.to(device)\n",
    "\n",
    "      #encodering\n",
    "      x_class_l = self.encoder(x_class_l).detach().cpu()\n",
    "\n",
    "      #SMOTE\n",
    "      n_generate = target - len(y_class)\n",
    "      x_sample, y_sample = self.SMOTE(x_class_l, n_generate, cls) #output torch dtype\n",
    "      x_sample = x_sample.float().to(device)\n",
    "\n",
    "      #decodering\n",
    "      x_decode = self.decoder(x_sample).detach().cpu()\n",
    "      x_decode = x_decode.permute(0,2,3,1)*255.0\n",
    "\n",
    "      #saving\n",
    "      gen_x.append(x_decode.to(dtype=torch.float16))\n",
    "      gen_y.append(y_sample)\n",
    "\n",
    "    # combine result torch all of class in one tensor\n",
    "\n",
    "    combine_gen = {'images': torch.cat(gen_x, dim=0), 'class': torch.cat(gen_y, dim=0)}\n",
    "    save_cachedImg(args['hasil_oversampling']+\"combine_oversampling.pkl\", combine_gen)\n",
    "\n",
    "    #combine result torch with data\n",
    "    self.combine_data = {'images':torch.cat([(self.data_x.permute(0,2,3,1)*255.0).to(dtype=torch.float16),\n",
    "                                             torch.cat(gen_x, dim=0)], dim=0),\n",
    "                         'class':torch.cat([self.data_y,\n",
    "                                            torch.cat(gen_y, dim=0)], dim=0)}\n",
    "    save_cachedImg(args['hasil_oversampling']+\"combine_oversampling_with_data.pkl\", self.combine_data)\n",
    "\n",
    "    self.gen_timer = time.time()-self.gen_timer\n",
    "    print(self.gen_timer/60)"
   ]
  },
  {
   "cell_type": "markdown",
   "metadata": {
    "id": "lKcJd27xCGaE"
   },
   "source": [
    "### h.Class EfficientNet"
   ]
  },
  {
   "cell_type": "code",
   "execution_count": null,
   "metadata": {
    "id": "qg-ZadwEmC0m"
   },
   "outputs": [],
   "source": [
    "class EfficientNetClassification(nn.Module):\n",
    "    def __init__(self, version):\n",
    "        super(EfficientNetClassification, self).__init__()\n",
    "        self.efficientnet = EfficientNet.from_pretrained('efficientnet-'+version)\n",
    "        in_features = self.efficientnet._fc.in_features\n",
    "        num_class = len(args['class'])\n",
    "        self.efficientnet._fc = nn.Linear(in_features, num_class)\n",
    "        self.version = version\n",
    "\n",
    "    def forward(self, x):\n",
    "        return self.efficientnet(x)\n",
    "\n"
   ]
  },
  {
   "cell_type": "markdown",
   "metadata": {
    "id": "YjwNBQw3eOjj"
   },
   "source": [
    "### i. Classification with K-Fold"
   ]
  },
  {
   "cell_type": "code",
   "execution_count": null,
   "metadata": {
    "id": "f1eXcGHSeN4a"
   },
   "outputs": [],
   "source": [
    "#preprocessing, training+validation, testing,\n",
    "class Classification:\n",
    "  def __init__(self, model, epochs):\n",
    "    self.model, self.criterion, self.epochs = model, nn.CrossEntropyLoss(), epochs\n",
    "\n",
    "  def compile(self, optim, lr):\n",
    "    if optim == \"rmsprop\":\n",
    "      self.model_optimizer = torch.optim.RMSprop(self.model.parameters(), lr=lr, alpha=1-0.9, momentum=1-0.9)\n",
    "\n",
    "  def preprocessing(self,x, y, xval, yval):\n",
    "    if self.Train == True:\n",
    "      self.data_x_train, self.data_y_train = x.permute(0,3,1,2)/255.0, y\n",
    "      self.data_x_val, self.data_y_val = xval.permute(0,3,1,2)/255.0, yval\n",
    "\n",
    "      # self.classes = torch.unique(self.data_y.))\n",
    "      self.train_loader = DataLoader(TensorDataset(self.data_x_train, self.data_y_train), batch_size = 32, shuffle=True, num_workers = 0)\n",
    "      self.val_loader = DataLoader(TensorDataset(self.data_x_val, self.data_y_val), batch_size = 32, shuffle=True, num_workers = 0)\n",
    "\n",
    "    else:\n",
    "      self.data_x_test, self.data_y_test = x.permute(0,3,1,2)/255.0, y\n",
    "      self.test_loader = DataLoader(TensorDataset(self.data_x_test, self.data_y_test), batch_size = 32, shuffle=True, num_workers = 0)\n",
    "\n",
    "  def save_model(self, k):\n",
    "    torch.save(self.model.state_dict(), args['model_klasifikasi']+\"best_lib_eff_\"+self.model.version+\"_\"+str(k)+\"fold_.pth\")\n",
    "\n",
    "  def train(self, model, optimizer, criterion, train_loader):\n",
    "    model.train()\n",
    "    running_loss = 0\n",
    "    correct = 0\n",
    "    total = 0\n",
    "    alpha, beta = 1e-5, 1e-3\n",
    "    for id_batch, (images, labels) in enumerate(train_loader):\n",
    "        images = images.to(self.device)\n",
    "        labels = labels.to(self.device)\n",
    "\n",
    "        optimizer.zero_grad()\n",
    "        outputs = model(images)\n",
    "\n",
    "        loss = criterion(outputs, labels)\n",
    "        loss.backward()\n",
    "        optimizer.step()\n",
    "\n",
    "        running_loss += loss.item()\n",
    "        _, predict = torch.max(outputs.data, 1)\n",
    "        correct += (predict == labels).sum().item()\n",
    "        total += labels.size(0)\n",
    "\n",
    "    train_loss = running_loss / len(train_loader)\n",
    "    train_acc = correct / total\n",
    "\n",
    "    return model, train_loss, train_acc\n",
    "\n",
    "  def valid(self, model, criterion, valid_loader):\n",
    "    model.eval()\n",
    "    running_loss = 0\n",
    "    correct = 0\n",
    "    total = 0\n",
    "    all_prediction, all_target = [], []\n",
    "\n",
    "    with torch.no_grad():\n",
    "\n",
    "        for batch_idx, (images, labels) in enumerate(valid_loader):\n",
    "            images = images.to(self.device)\n",
    "            labels = labels.to(self.device)\n",
    "\n",
    "            outputs = model(images)\n",
    "\n",
    "            loss = criterion(outputs, labels)\n",
    "            running_loss += loss.item()\n",
    "\n",
    "            _, predict = torch.max(outputs.data, 1)\n",
    "            correct += (predict == labels).sum().item()\n",
    "            total += labels.size(0)\n",
    "\n",
    "\n",
    "            all_prediction.extend(predict.cpu().numpy())\n",
    "            all_target.extend(labels.cpu().numpy())\n",
    "\n",
    "    val_loss = running_loss / len(valid_loader)\n",
    "    val_acc = correct / total\n",
    "    eval=self.evaluate(all_prediction, all_target)\n",
    "\n",
    "    return model, val_loss, val_acc, eval\n",
    "\n",
    "  def fit(self, X,y,xval,yval,k, device):\n",
    "    self.Train = True\n",
    "    self.device=device\n",
    "    self.fold_stats = {}\n",
    "    self.model = self.model.to(device)\n",
    "    self.criterion = self.criterion.to(device)\n",
    "    self.compile('rmsprop',args['lr'])\n",
    "    # best_perform = -1\n",
    "\n",
    "    #Kfold Splitting\n",
    "    # for k, (self.train_id, self.val_id) in enumerate (self.kfold.split(X,y)):\n",
    "    loss_fold, acc_fold, loss_val, acc_val, perform=[], [], [], [], []\n",
    "    best_loss = 999\n",
    "    time_start = time.time()\n",
    "    print(f\"fold ke-{k}\")\n",
    "    self.preprocessing(X,y,xval,yval)\n",
    "\n",
    "    # early stopping setup\n",
    "    es_threshold = 10\n",
    "    es_counter = 0\n",
    "\n",
    "    #Training Model with fold\n",
    "    for epoch in range(self.epochs):\n",
    "\n",
    "      self.model, train_loss, train_acc = self.train(self.model, self.model_optimizer, self.criterion, self.train_loader)\n",
    "\n",
    "      self.model, val_loss, val_acc, eval = self.valid(self.model, self.criterion, self.val_loader)\n",
    "      loss_fold.append(train_loss)\n",
    "      acc_fold.append(train_acc)\n",
    "      loss_val.append(val_loss)\n",
    "      acc_val.append(val_acc)\n",
    "      perform.append(eval)\n",
    "\n",
    "      #simpan model\n",
    "      print(f\"Epoch : {epoch+1} train loss : {train_loss} train acc : {train_acc} val loss : {val_loss} val acc : {val_acc} \")\n",
    "      if train_loss < best_loss :\n",
    "        print(\"Menyimpan Model\")\n",
    "        self.save_model(k)\n",
    "        best_loss = train_loss\n",
    "        es_counter = 0\n",
    "      else:\n",
    "        es_counter+=1\n",
    "        if es_counter>=es_threshold:\n",
    "          print(f\"Early stopping after {epoch + 1} epochs.\")\n",
    "          break\n",
    "\n",
    "    #save timer\n",
    "    time_stop = time.time()\n",
    "    self.fold_stats['timer']=(time_stop-time_start)/60\n",
    "\n",
    "    #simpan semua loss fold\n",
    "    self.fold_stats['loss_training'], self.fold_stats['acc_training']=loss_fold, acc_fold\n",
    "    self.fold_stats['loss_validasi'], self.fold_stats['acc_validasi'], self.fold_stats['perform']=loss_val, acc_val, perform\n",
    "\n",
    "    save_cachedImg(args['model_klasifikasi']+f\"perform_lib_eff_{self.model.version}_{k}_fold.pkl\", self.fold_stats)\n",
    "    print(f\"fold -{k} acc : {self.fold_stats['perform'][-1][0]} precision : {self.fold_stats['perform'][-1][1]} recall : {self.fold_stats['perform'][-1][2]} f1 : {self.fold_stats['perform'][-1][3]}\")\n",
    "    #save fold model final with best accuracy\n",
    "\n",
    "  def can_predict(self):\n",
    "    path_class = os.listdir(args['model_klasifikasi'])\n",
    "    #checking perform model version with fold\n",
    "    path_perform = [f\"perform_lib_eff_{self.model.version}_{k}_fold.pkl\" for k in range (5)]\n",
    "    stats = []\n",
    "    for path in path_perform:\n",
    "      if path in path_class:\n",
    "        can_it = True\n",
    "        status_fold = write_cachedImg(args['model_klasifikasi']+path)\n",
    "        stats.append(status_fold)\n",
    "\n",
    "      else:\n",
    "        can_it =False\n",
    "        print(\"Tidak bisa dilakukan karena kfold validation belum selesai!\")\n",
    "        break\n",
    "\n",
    "    # select_by_accuracy\n",
    "    if can_it:\n",
    "      self.show_perform(stats)\n",
    "      best_acc, best_k = 0, 0\n",
    "      for k in range (len(stats)):\n",
    "        if stats[k]['acc_validasi'][-1]>best_acc:\n",
    "          best_acc = stats[k]['acc_validasi'][-1]\n",
    "          best_k = k\n",
    "      print(f\"Model Terbaik adalah model pada fold ke-{best_k}\")\n",
    "      self.best_model_path = self.select_path_model(best_k)\n",
    "\n",
    "\n",
    "  def predict(self, X,y, device):\n",
    "    self.Train = False\n",
    "    self.device = device\n",
    "    #select path\n",
    "    self.model.load_state_dict(torch.load(self.best_model_path, map_location=device) ,strict=False)\n",
    "    # self.model.eval()\n",
    "\n",
    "    # #preprocessing\n",
    "    self.preprocessing(X,y, None, None)\n",
    "\n",
    "    # self.final_perform = self.evaluate(*self.prediction_(self.test_loader, device))\n",
    "    _, test_loss, test_acc, perform = self.valid(self.model, self.criterion, self.test_loader)\n",
    "\n",
    "    print(f\"Hasil Testing\")\n",
    "\n",
    "    plt.figure(figsize=(6, 6))\n",
    "    sn.heatmap(perform[4], annot=True, fmt='d', cmap='Blues', xticklabels=args['class'], yticklabels=args['class'])\n",
    "    plt.xlabel('Predicted')\n",
    "    plt.ylabel('Target')\n",
    "    plt.title('Confusion Matrix')\n",
    "    plt.show()\n",
    "\n",
    "    print(f\"Loss : {test_loss}\")\n",
    "    print(f\"Accuracy : {test_acc}\")\n",
    "    print(f\"Precision : {perform[1]}\")\n",
    "    print(f\"Recall : {perform[2]}\")\n",
    "    print(f\"F1-score : {perform[3]}\")\n",
    "\n",
    "  def select_path_model(self, k):\n",
    "    return args['model_klasifikasi']+f\"best_lib_eff_\"+self.model.version+\"_\"+str(k)+\"fold_.pth\"\n",
    "\n",
    "  def show_perform(self, stats):\n",
    "    for k in range(len(stats)):\n",
    "      print(f\"fold ke-{k}\")\n",
    "      acc_val, precision, recall, f1_total = [], [], [], []\n",
    "      for a in range(len(stats[k]['perform'])):\n",
    "        acc_val.append(stats[k]['perform'][a][0])\n",
    "        precision.append(stats[k]['perform'][a][1])\n",
    "        recall.append(stats[k]['perform'][a][2])\n",
    "        f1_total.append(stats[k]['perform'][a][3])\n",
    "      plt.figure(figsize=(12, 5))\n",
    "      plt.plot(stats[k]['loss_training'], label='Training Loss')\n",
    "      plt.plot(stats[k]['loss_validasi'], label='Validasi Loss')\n",
    "      plt.xlabel('Epoch')\n",
    "      plt.ylabel('Loss')\n",
    "      plt.title('Training-Validasi Loss Over Epochs')\n",
    "      plt.legend()\n",
    "      plt.show()\n",
    "\n",
    "      plt.figure(figsize=(12, 5))\n",
    "      plt.plot(stats[k]['acc_training'], label='Training Acc')\n",
    "      plt.plot(stats[k]['acc_validasi'], label='Validating Acc')\n",
    "      plt.xlabel('Epoch')\n",
    "      plt.ylabel('Loss')\n",
    "      plt.title('Validating ACC Over Epochs Training')\n",
    "      plt.legend()\n",
    "      plt.show()\n",
    "\n",
    "\n",
    "      plt.figure(figsize=(6, 6))\n",
    "      sn.heatmap(stats[k]['perform'][-1][4], annot=True, fmt='d', cmap='Blues', xticklabels=args['class'], yticklabels=args['class'])\n",
    "      plt.xlabel('Predicted')\n",
    "      plt.ylabel('True')\n",
    "      plt.title('Confusion Matrix')\n",
    "      plt.show()\n",
    "\n",
    "      print(f\"Waktu : {stats[k]['timer']}\")\n",
    "      print(f\"Loss : {stats[k]['loss_validasi'][-1]}\")\n",
    "      print(f\"Accuracy : {stats[k]['acc_validasi'][-1]}\")\n",
    "      print(f\"Precision : {stats[k]['perform'][-1][1]}\")\n",
    "      print(f\"Recall : {stats[k]['perform'][-1][2]}\")\n",
    "      print(f\"F1-score : {stats[k]['perform'][-1][3]}\")\n",
    "\n",
    "  def evaluate(self, predict, target):\n",
    "    conf_matrix = torch.from_numpy(confusion_matrix(target, predict))\n",
    "    metrics_per_class = {}\n",
    "    for i in range(conf_matrix.size(0)):\n",
    "      TP = conf_matrix[i, i]\n",
    "      FP = torch.sum(conf_matrix[:, i]) - TP\n",
    "      FN = torch.sum(conf_matrix[i, :]) - TP\n",
    "      TN = torch.sum(conf_matrix) - TP -FP -FN\n",
    "\n",
    "      accuracy = (TP + TN) / torch.sum(conf_matrix)\n",
    "      precision = TP / (TP + FP)\n",
    "      recall = TP / (TP + FN)\n",
    "      f1 = 2 * (precision * recall) / (precision + recall)\n",
    "\n",
    "      metrics_per_class[args['class'][i]] = {\n",
    "          'acc': accuracy.item(),\n",
    "          'precision': precision.item(),\n",
    "          'recall': recall.item(),\n",
    "          'f1': f1.item()}\n",
    "    accuracy_total = sum(metric['acc'] for metric in metrics_per_class.values()) / conf_matrix.size(0)\n",
    "    precision_total = sum(metric['precision'] for metric in metrics_per_class.values()) / conf_matrix.size(0)\n",
    "    recall_total = sum(metric['recall'] for metric in metrics_per_class.values()) / conf_matrix.size(0)\n",
    "    f1_total = sum(metric['f1'] for metric in metrics_per_class.values()) / conf_matrix.size(0)\n",
    "    return [accuracy_total, precision_total, recall_total, f1_total, conf_matrix, metrics_per_class]\n"
   ]
  },
  {
   "cell_type": "markdown",
   "metadata": {
    "id": "uX7NIEg-eUIK"
   },
   "source": [
    "## III. Metodologi Penelitian"
   ]
  },
  {
   "cell_type": "markdown",
   "metadata": {
    "id": "B9SvKj9lgr4q"
   },
   "source": [
    "### c. Melakukan Oversampling"
   ]
  },
  {
   "cell_type": "markdown",
   "metadata": {
    "id": "iB0CYLBpgvu5"
   },
   "source": [
    "#### *1. Cek Ukuran Data"
   ]
  },
  {
   "cell_type": "code",
   "execution_count": null,
   "metadata": {
    "colab": {
     "base_uri": "https://localhost:8080/",
     "height": 472
    },
    "id": "LsvPh32Yg1qx",
    "outputId": "30b501c6-c0b0-4771-bf8b-77e07d181fc8"
   },
   "outputs": [
    {
     "data": {
      "image/png": "[encoded data removed]",
      "text/plain": [
       "<Figure size 640x480 with 1 Axes>"
      ]
     },
     "metadata": {},
     "output_type": "display_data"
    }
   ],
   "source": [
    "n_data = [*get_n_data_class(dataset_segmentasi)]\n",
    "classes = args['class']\n",
    "plt.bar(classes, n_data, color='blue')\n",
    "plt.xlabel('Kelas')\n",
    "plt.ylabel('Jumlah Data')\n",
    "plt.title('Grafik Jumlah Data')\n",
    "for i, value in enumerate(n_data):\n",
    "    plt.text(i, value + 0.1, str(value), ha='center', va='bottom')"
   ]
  },
  {
   "cell_type": "markdown",
   "metadata": {
    "id": "5FSyT4TWhqXS"
   },
   "source": [
    "#### *4. Melatih Encoder-Decoder"
   ]
  },
  {
   "cell_type": "code",
   "execution_count": null,
   "metadata": {
    "id": "LAjIO0CzMmdy"
   },
   "outputs": [],
   "source": [
    "encoder = Encoder()\n",
    "decoder = Decoder()\n",
    "deepsmote = DeepSMOTE(encoder, decoder)"
   ]
  },
  {
   "cell_type": "code",
   "execution_count": null,
   "metadata": {
    "colab": {
     "base_uri": "https://localhost:8080/"
    },
    "id": "mELYUwBVNMlK",
    "outputId": "d1d31914-f07b-4937-f67b-85c664ebb4d8"
   },
   "outputs": [
    {
     "name": "stdout",
     "output_type": "stream",
     "text": [
      "Epoch :1 Train Loss: 34.90486764786195 Rec Loss: 17.368733443775955 Penalty_loss: 17.53613427524664\n",
      "Menyimpan Model ....\n",
      "Epoch :2 Train Loss: 13.678130614514254 Rec Loss: 6.723597525181819 Penalty_loss: 6.954533124760705\n",
      "Menyimpan Model ....\n",
      "Epoch :3 Train Loss: 7.419474243813632 Rec Loss: 3.5735912974543718 Penalty_loss: 3.8458829615645262\n",
      "Menyimpan Model ....\n",
      "Epoch :4 Train Loss: 5.171881788543293 Rec Loss: 2.4883160326553853 Penalty_loss: 2.683565749577722\n",
      "Menyimpan Model ....\n",
      "Epoch :5 Train Loss: 4.147928632339653 Rec Loss: 2.031458589115313 Penalty_loss: 2.1164700546282895\n",
      "Menyimpan Model ....\n",
      "Epoch :6 Train Loss: 3.609836716737066 Rec Loss: 1.7893866760542199 Penalty_loss: 1.820450041291057\n",
      "Menyimpan Model ....\n",
      "Epoch :7 Train Loss: 3.2951816236790346 Rec Loss: 1.6237471937677082 Penalty_loss: 1.6714344052027683\n",
      "Menyimpan Model ....\n",
      "Epoch :8 Train Loss: 2.9653961640231463 Rec Loss: 1.475708944228839 Penalty_loss: 1.4896872305520334\n",
      "Menyimpan Model ....\n",
      "Epoch :9 Train Loss: 2.7910023606857477 Rec Loss: 1.3879972637764044 Penalty_loss: 1.4030051038657525\n",
      "Menyimpan Model ....\n",
      "Epoch :10 Train Loss: 2.5537614392078654 Rec Loss: 1.2687623461670414 Penalty_loss: 1.2849990917863894\n",
      "Menyimpan Model ....\n",
      "Epoch :11 Train Loss: 2.324407403870505 Rec Loss: 1.1618996289539703 Penalty_loss: 1.162507779364075\n",
      "Menyimpan Model ....\n",
      "Epoch :12 Train Loss: 2.1996556993345826 Rec Loss: 1.0973768664561971 Penalty_loss: 1.102278836033478\n",
      "Menyimpan Model ....\n",
      "Epoch :13 Train Loss: 2.0690385998055643 Rec Loss: 1.02433522425744 Penalty_loss: 1.044703390753391\n",
      "Menyimpan Model ....\n",
      "Epoch :14 Train Loss: 1.9805427438446455 Rec Loss: 0.9804279280788436 Penalty_loss: 1.0001148271697515\n",
      "Menyimpan Model ....\n",
      "Epoch :15 Train Loss: 1.849503683344442 Rec Loss: 0.9166713058948517 Penalty_loss: 0.932832386952882\n",
      "Menyimpan Model ....\n",
      "Epoch :16 Train Loss: 1.7585087809331563 Rec Loss: 0.8818382993720624 Penalty_loss: 0.8766704936112676\n",
      "Menyimpan Model ....\n",
      "Epoch :17 Train Loss: 1.7116818992915201 Rec Loss: 0.8466446506125587 Penalty_loss: 0.8650372439273157\n",
      "Menyimpan Model ....\n",
      "Epoch :18 Train Loss: 1.6359773439412215 Rec Loss: 0.8123285841500881 Penalty_loss: 0.8236487521885001\n",
      "Menyimpan Model ....\n",
      "Epoch :19 Train Loss: 1.6282948517069524 Rec Loss: 0.8052750552567293 Penalty_loss: 0.823019792953012\n",
      "Menyimpan Model ....\n",
      "Epoch :20 Train Loss: 1.5151224293727048 Rec Loss: 0.7525590855286134 Penalty_loss: 0.7625633470181908\n",
      "Menyimpan Model ....\n",
      "Epoch :21 Train Loss: 1.436374429423286 Rec Loss: 0.7135609309854252 Penalty_loss: 0.722813493686215\n",
      "Menyimpan Model ....\n",
      "Epoch :22 Train Loss: 1.395053651754041 Rec Loss: 0.6944031264937046 Penalty_loss: 0.7006505300119823\n",
      "Menyimpan Model ....\n",
      "Epoch :23 Train Loss: 1.3381505448143094 Rec Loss: 0.6618767537518727 Penalty_loss: 0.6762737875842318\n",
      "Menyimpan Model ....\n",
      "Epoch :24 Train Loss: 1.32661257638615 Rec Loss: 0.6606624580121466 Penalty_loss: 0.6659501177467861\n",
      "Menyimpan Model ....\n",
      "Epoch :25 Train Loss: 1.3045720785704193 Rec Loss: 0.6439792138277268 Penalty_loss: 0.660592860618264\n",
      "Menyimpan Model ....\n",
      "Epoch :26 Train Loss: 1.2300602880743694 Rec Loss: 0.6120545859543645 Penalty_loss: 0.6180057002193465\n",
      "Menyimpan Model ....\n",
      "Epoch :27 Train Loss: 1.1929936581196225 Rec Loss: 0.5953931484599503 Penalty_loss: 0.5976005096596723\n",
      "Menyimpan Model ....\n",
      "Epoch :28 Train Loss: 1.182294601992685 Rec Loss: 0.5888631697934197 Penalty_loss: 0.5934314258700731\n",
      "Menyimpan Model ....\n",
      "Epoch :29 Train Loss: 1.17897660315645 Rec Loss: 0.5854276924831222 Penalty_loss: 0.5935489154249733\n",
      "Menyimpan Model ....\n",
      "Epoch :30 Train Loss: 1.1133639180690658 Rec Loss: 0.5553457437235177 Penalty_loss: 0.5580181727680017\n",
      "Menyimpan Model ....\n",
      "Epoch :31 Train Loss: 1.0738051058914588 Rec Loss: 0.5353705383723184 Penalty_loss: 0.5384345798734196\n",
      "Menyimpan Model ....\n",
      "Epoch :32 Train Loss: 1.0728597921148246 Rec Loss: 0.5263249814054187 Penalty_loss: 0.5465348164113809\n",
      "Menyimpan Model ....\n",
      "Epoch :33 Train Loss: 1.0407131407790038 Rec Loss: 0.5150487859714397 Penalty_loss: 0.5256643532300178\n",
      "Menyimpan Model ....\n",
      "Epoch :34 Train Loss: 0.9997074795620782 Rec Loss: 0.496441845516009 Penalty_loss: 0.50326563309574\n",
      "Menyimpan Model ....\n",
      "Epoch :35 Train Loss: 0.97327525237081 Rec Loss: 0.4883497681240646 Penalty_loss: 0.48492548519707457\n",
      "Menyimpan Model ....\n",
      "Epoch :36 Train Loss: 0.9557191385906569 Rec Loss: 0.4752539929610734 Penalty_loss: 0.48046514595269546\n",
      "Menyimpan Model ....\n",
      "Epoch :37 Train Loss: 0.9589932147717598 Rec Loss: 0.47282353628958973 Penalty_loss: 0.48616967658151167\n",
      "Epoch :38 Train Loss: 0.9335628627438326 Rec Loss: 0.45840236711867 Penalty_loss: 0.4751604937245043\n",
      "Menyimpan Model ....\n",
      "Epoch :39 Train Loss: 0.9252499412669211 Rec Loss: 0.4565594691821203 Penalty_loss: 0.46869046828348415\n",
      "Menyimpan Model ....\n",
      "Epoch :40 Train Loss: 0.9077561840567053 Rec Loss: 0.44861817202169674 Penalty_loss: 0.45913801188295594\n",
      "Menyimpan Model ....\n",
      "Epoch :41 Train Loss: 0.8659307073269572 Rec Loss: 0.43028128304879887 Penalty_loss: 0.43564941984962446\n",
      "Menyimpan Model ....\n",
      "Epoch :42 Train Loss: 0.847635887677268 Rec Loss: 0.4224799594138654 Penalty_loss: 0.42515592303659233\n",
      "Menyimpan Model ....\n",
      "Epoch :43 Train Loss: 0.8639954367690549 Rec Loss: 0.42398827427960173 Penalty_loss: 0.4400071583650246\n",
      "Epoch :44 Train Loss: 0.8286643961862642 Rec Loss: 0.4143368518930309 Penalty_loss: 0.4143275396936402\n",
      "Menyimpan Model ....\n",
      "Epoch :45 Train Loss: 0.8373712512227346 Rec Loss: 0.41270721064196253 Penalty_loss: 0.42466404564602644\n",
      "Epoch :46 Train Loss: 0.8138700079324902 Rec Loss: 0.40406152515729166 Penalty_loss: 0.40980847881232596\n",
      "Menyimpan Model ....\n",
      "Epoch :47 Train Loss: 0.8023789499563222 Rec Loss: 0.3982398284751238 Penalty_loss: 0.4041391282855552\n",
      "Menyimpan Model ....\n",
      "Epoch :48 Train Loss: 0.7973698340736481 Rec Loss: 0.39056715711343043 Penalty_loss: 0.40680267443234214\n",
      "Menyimpan Model ....\n",
      "Epoch :49 Train Loss: 0.7736175741848289 Rec Loss: 0.38368901866012994 Penalty_loss: 0.3899285563134721\n",
      "Menyimpan Model ....\n",
      "Epoch :50 Train Loss: 0.7592168604688985 Rec Loss: 0.3771549814418719 Penalty_loss: 0.3820618812412936\n",
      "Menyimpan Model ....\n",
      "Epoch :51 Train Loss: 0.7622302149479486 Rec Loss: 0.37613320427623637 Penalty_loss: 0.386097006556787\n",
      "Epoch :52 Train Loss: 0.7617975303865209 Rec Loss: 0.37562135740050245 Penalty_loss: 0.38617616855748454\n",
      "Epoch :53 Train Loss: 0.7474413651934996 Rec Loss: 0.3698067522360658 Penalty_loss: 0.3776346101064463\n",
      "Menyimpan Model ....\n",
      "Epoch :54 Train Loss: 0.7549295619662318 Rec Loss: 0.37420972645738904 Penalty_loss: 0.3807198348721223\n",
      "Epoch :55 Train Loss: 0.7244107675719627 Rec Loss: 0.356746253909125 Penalty_loss: 0.36766450922480043\n",
      "Menyimpan Model ....\n",
      "Epoch :56 Train Loss: 0.70613568181134 Rec Loss: 0.35243894779408463 Penalty_loss: 0.3536967349675845\n",
      "Menyimpan Model ....\n",
      "Epoch :57 Train Loss: 0.7147442067460138 Rec Loss: 0.3502589742158901 Penalty_loss: 0.3644852358562758\n",
      "Epoch :58 Train Loss: 0.6894586941569435 Rec Loss: 0.3397222886774309 Penalty_loss: 0.34973640911927334\n",
      "Menyimpan Model ....\n",
      "Epoch :59 Train Loss: 0.6846536019322823 Rec Loss: 0.3385684803242282 Penalty_loss: 0.3460851225583833\n",
      "Menyimpan Model ....\n",
      "Epoch :60 Train Loss: 0.6843429177011154 Rec Loss: 0.3404927152798188 Penalty_loss: 0.3438502057474487\n",
      "Menyimpan Model ....\n",
      "Epoch :61 Train Loss: 0.666621811973045 Rec Loss: 0.3299524500985079 Penalty_loss: 0.33666935807322057\n",
      "Menyimpan Model ....\n",
      "Epoch :62 Train Loss: 0.6827885472804917 Rec Loss: 0.33426218872357694 Penalty_loss: 0.34852635649470043\n",
      "Epoch :63 Train Loss: 0.6741922749586555 Rec Loss: 0.3327995235556547 Penalty_loss: 0.3413927537788238\n",
      "Epoch :64 Train Loss: 0.6610878410996223 Rec Loss: 0.32668916222506333 Penalty_loss: 0.33439867681234464\n",
      "Menyimpan Model ....\n",
      "Epoch :65 Train Loss: 0.650457100296507 Rec Loss: 0.31919114375296903 Penalty_loss: 0.33126595765542316\n",
      "Menyimpan Model ....\n",
      "Epoch :66 Train Loss: 0.6322930335086219 Rec Loss: 0.3158482773590605 Penalty_loss: 0.31644476042604264\n",
      "Menyimpan Model ....\n",
      "Epoch :67 Train Loss: 0.6179805082858217 Rec Loss: 0.30788957367518116 Penalty_loss: 0.3100909334987554\n",
      "Menyimpan Model ....\n",
      "Epoch :68 Train Loss: 0.640370164484698 Rec Loss: 0.3179455851394759 Penalty_loss: 0.32242457775817235\n",
      "Epoch :69 Train Loss: 0.6411810639903558 Rec Loss: 0.3187272058305692 Penalty_loss: 0.322453857684622\n",
      "Epoch :70 Train Loss: 0.6034290377164677 Rec Loss: 0.2999429760253703 Penalty_loss: 0.30348606406692036\n",
      "Menyimpan Model ....\n",
      "Epoch :71 Train Loss: 0.6677370309563619 Rec Loss: 0.3307696320211553 Penalty_loss: 0.3369673994103713\n",
      "Epoch :72 Train Loss: 0.645881881234141 Rec Loss: 0.3207680604952787 Penalty_loss: 0.32511382121402693\n",
      "Epoch :73 Train Loss: 0.6146804557314941 Rec Loss: 0.30563695417070874 Penalty_loss: 0.30904349870979786\n",
      "Epoch :74 Train Loss: 0.6122601903518852 Rec Loss: 0.3016930991802745 Penalty_loss: 0.31056709497292734\n",
      "Epoch :75 Train Loss: 0.6205546089391015 Rec Loss: 0.3068448340197151 Penalty_loss: 0.3137097744442218\n",
      "Epoch :76 Train Loss: 0.5775426639890184 Rec Loss: 0.28754221551044257 Penalty_loss: 0.29000044831701993\n",
      "Menyimpan Model ....\n",
      "Epoch :77 Train Loss: 0.567443357172365 Rec Loss: 0.2823404522460638 Penalty_loss: 0.285102906351795\n",
      "Menyimpan Model ....\n",
      "Epoch :78 Train Loss: 0.5645211651845246 Rec Loss: 0.2771481050140395 Penalty_loss: 0.28737305826982673\n",
      "Menyimpan Model ....\n",
      "Epoch :79 Train Loss: 0.5665614958472398 Rec Loss: 0.278982931500947 Penalty_loss: 0.2875785611816967\n",
      "Epoch :80 Train Loss: 0.5694984053546677 Rec Loss: 0.280543964584263 Penalty_loss: 0.2889544383945818\n",
      "Epoch :81 Train Loss: 0.5752420642470218 Rec Loss: 0.28340800148339906 Penalty_loss: 0.29183406260206685\n",
      "Epoch :82 Train Loss: 0.6325237594772967 Rec Loss: 0.30941275709631794 Penalty_loss: 0.3231110012690936\n",
      "Epoch :83 Train Loss: 0.5774331760345673 Rec Loss: 0.2842158897285711 Penalty_loss: 0.29321728899542776\n",
      "Epoch :84 Train Loss: 0.5688551634512081 Rec Loss: 0.2807129399223747 Penalty_loss: 0.28814222733015005\n",
      "Epoch :85 Train Loss: 0.5527387752140663 Rec Loss: 0.2735151979426036 Penalty_loss: 0.2792235780602359\n",
      "Menyimpan Model ....\n",
      "Epoch :86 Train Loss: 0.5577522506367187 Rec Loss: 0.27165772528292575 Penalty_loss: 0.2860945261425662\n",
      "Epoch :87 Train Loss: 0.5388554572222792 Rec Loss: 0.2672234075809164 Penalty_loss: 0.27163205122841255\n",
      "Menyimpan Model ....\n",
      "Epoch :88 Train Loss: 0.5197409269380935 Rec Loss: 0.2601262624660621 Penalty_loss: 0.2596146706491709\n",
      "Menyimpan Model ....\n",
      "Epoch :89 Train Loss: 0.5350619262388471 Rec Loss: 0.2631751722846256 Penalty_loss: 0.27188675490455055\n",
      "Epoch :90 Train Loss: 0.5527568180874294 Rec Loss: 0.2722883614692457 Penalty_loss: 0.2804684559814632\n",
      "Epoch :91 Train Loss: 0.5343737559279009 Rec Loss: 0.2631904018510665 Penalty_loss: 0.2711833501139618\n",
      "Epoch :92 Train Loss: 0.5172095293065115 Rec Loss: 0.25697119791554857 Penalty_loss: 0.26023833012702513\n",
      "Menyimpan Model ....\n",
      "Epoch :93 Train Loss: 0.5219181044863499 Rec Loss: 0.25794390656472166 Penalty_loss: 0.26397419744646367\n",
      "Epoch :94 Train Loss: 0.516114284873617 Rec Loss: 0.2549087768990774 Penalty_loss: 0.26120550940003323\n",
      "Menyimpan Model ....\n",
      "Epoch :95 Train Loss: 0.5214117574980672 Rec Loss: 0.2585498888463694 Penalty_loss: 0.2628618669125955\n",
      "Epoch :96 Train Loss: 0.538615649490028 Rec Loss: 0.26100285783676164 Penalty_loss: 0.2776127922899869\n",
      "Epoch :97 Train Loss: 0.5333058532821585 Rec Loss: 0.2619021753685511 Penalty_loss: 0.27140367316196157\n",
      "Epoch :98 Train Loss: 0.5189033508376808 Rec Loss: 0.2560959072897629 Penalty_loss: 0.26280744433669107\n",
      "Epoch :99 Train Loss: 0.5128424234156098 Rec Loss: 0.2517422138409195 Penalty_loss: 0.26110020688525876\n",
      "Menyimpan Model ....\n",
      "Epoch :100 Train Loss: 0.4948358886247995 Rec Loss: 0.24384030498260137 Penalty_loss: 0.2509955838037541\n",
      "Menyimpan Model ....\n",
      "Epoch :101 Train Loss: 0.489059381833186 Rec Loss: 0.2405266831819044 Penalty_loss: 0.2485326961139027\n",
      "Menyimpan Model ....\n",
      "Epoch :102 Train Loss: 0.4900712423330667 Rec Loss: 0.24028511929838936 Penalty_loss: 0.24978612462172703\n",
      "Epoch :103 Train Loss: 0.49188994314065393 Rec Loss: 0.2429456550304835 Penalty_loss: 0.24894428811017044\n",
      "Epoch :104 Train Loss: 0.5065401914928641 Rec Loss: 0.24977223762330047 Penalty_loss: 0.2567679541831722\n",
      "Epoch :105 Train Loss: 0.4861216837806361 Rec Loss: 0.2408104253818794 Penalty_loss: 0.24531125776203616\n",
      "Menyimpan Model ....\n",
      "Epoch :106 Train Loss: 0.4905220375833463 Rec Loss: 0.2421565135959916 Penalty_loss: 0.2483655214499758\n",
      "Epoch :107 Train Loss: 0.48641981762282704 Rec Loss: 0.24039832169037997 Penalty_loss: 0.24602149529572653\n",
      "Epoch :108 Train Loss: 0.4883846360809949 Rec Loss: 0.24141353485649641 Penalty_loss: 0.24697110296360084\n",
      "Epoch :109 Train Loss: 0.4874221687110103 Rec Loss: 0.2386695825855951 Penalty_loss: 0.24875258517508603\n",
      "Epoch :110 Train Loss: 0.48211157340936517 Rec Loss: 0.23742142113457834 Penalty_loss: 0.2446901495853553\n",
      "Menyimpan Model ....\n",
      "Epoch :111 Train Loss: 0.4695559396427505 Rec Loss: 0.23016115420554972 Penalty_loss: 0.2393947855987567\n",
      "Menyimpan Model ....\n",
      "Epoch :112 Train Loss: 0.4714769855597798 Rec Loss: 0.23225165683091903 Penalty_loss: 0.2392253277785316\n",
      "Epoch :113 Train Loss: 0.4454862088991367 Rec Loss: 0.22072414104465624 Penalty_loss: 0.22476206547865757\n",
      "Menyimpan Model ....\n",
      "Epoch :114 Train Loss: 0.44612890955212775 Rec Loss: 0.21879081077379536 Penalty_loss: 0.22733809742886496\n",
      "Epoch :115 Train Loss: 0.46262661781998315 Rec Loss: 0.22718470903797722 Penalty_loss: 0.23544190704290355\n",
      "Epoch :116 Train Loss: 0.45754152855702807 Rec Loss: 0.2257958380030278 Penalty_loss: 0.23174568944211518\n",
      "Epoch :117 Train Loss: 0.46082558771785426 Rec Loss: 0.22654876229828413 Penalty_loss: 0.23427682819453124\n",
      "Epoch :118 Train Loss: 0.44964197696167596 Rec Loss: 0.22093251453978674 Penalty_loss: 0.22870946178516868\n",
      "Epoch :119 Train Loss: 0.4652189636336906 Rec Loss: 0.22823783017847002 Penalty_loss: 0.23698113471915833\n",
      "Epoch :120 Train Loss: 0.45052313603156685 Rec Loss: 0.22255759546533227 Penalty_loss: 0.22796554049020823\n",
      "Epoch :121 Train Loss: 0.4455502781902953 Rec Loss: 0.21983404092642725 Penalty_loss: 0.2257162392405527\n",
      "Epoch :122 Train Loss: 0.4498200885267282 Rec Loss: 0.22251313533253816 Penalty_loss: 0.227306953355746\n",
      "Epoch :123 Train Loss: 0.44339407229682015 Rec Loss: 0.21478285699398542 Penalty_loss: 0.2286112202920628\n",
      "Menyimpan Model ....\n",
      "Epoch :124 Train Loss: 0.4319231460555171 Rec Loss: 0.21306550980792666 Penalty_loss: 0.21885763640914643\n",
      "Menyimpan Model ....\n",
      "Epoch :125 Train Loss: 0.4265559513730054 Rec Loss: 0.21094249147085511 Penalty_loss: 0.21561345768788334\n",
      "Menyimpan Model ....\n",
      "Epoch :126 Train Loss: 0.4205291126759685 Rec Loss: 0.20912367866697665 Penalty_loss: 0.2114054354344856\n",
      "Menyimpan Model ....\n",
      "Epoch :127 Train Loss: 0.4261576798079269 Rec Loss: 0.2073747831377752 Penalty_loss: 0.2187828976204809\n",
      "Epoch :128 Train Loss: 0.4218286227967058 Rec Loss: 0.20601148674340578 Penalty_loss: 0.2158171338390331\n",
      "Epoch :129 Train Loss: 0.4286435531376272 Rec Loss: 0.21011458020847368 Penalty_loss: 0.2185289763313319\n",
      "Epoch :130 Train Loss: 0.412641215974427 Rec Loss: 0.2039607863930263 Penalty_loss: 0.20868043029414757\n",
      "Menyimpan Model ....\n",
      "Epoch :131 Train Loss: 0.42375839349566674 Rec Loss: 0.20900434628129005 Penalty_loss: 0.21475404578888294\n",
      "Epoch :132 Train Loss: 0.4298994359275212 Rec Loss: 0.2095052241110148 Penalty_loss: 0.22039421379794272\n",
      "Epoch :133 Train Loss: 0.4037602801750205 Rec Loss: 0.20141537918005975 Penalty_loss: 0.20234490123254303\n",
      "Menyimpan Model ....\n",
      "Epoch :134 Train Loss: 0.41494304967131845 Rec Loss: 0.2053211532837274 Penalty_loss: 0.2096218994761608\n",
      "Epoch :135 Train Loss: 0.4086077462273593 Rec Loss: 0.20204831343334245 Penalty_loss: 0.2065594318436877\n",
      "Epoch :136 Train Loss: 0.42785883818429954 Rec Loss: 0.2082354304646807 Penalty_loss: 0.21962340890753027\n",
      "Epoch :137 Train Loss: 0.47702740573761415 Rec Loss: 0.23617554146188255 Penalty_loss: 0.24085186625241625\n",
      "Epoch :138 Train Loss: 0.43563099785194714 Rec Loss: 0.21483481195470205 Penalty_loss: 0.22079618771712542\n",
      "Epoch :139 Train Loss: 0.41161206478671153 Rec Loss: 0.20451108680809943 Penalty_loss: 0.20710097734189156\n",
      "Epoch :140 Train Loss: 0.39932799023785154 Rec Loss: 0.1954185731176819 Penalty_loss: 0.2039094160890625\n",
      "Menyimpan Model ....\n",
      "Epoch :141 Train Loss: 0.38794860998358655 Rec Loss: 0.19170766415036455 Penalty_loss: 0.1962409455148617\n",
      "Menyimpan Model ....\n",
      "Epoch :142 Train Loss: 0.38419635799162244 Rec Loss: 0.18912012353824564 Penalty_loss: 0.19507623484776337\n",
      "Menyimpan Model ....\n",
      "Epoch :143 Train Loss: 0.37337384988762895 Rec Loss: 0.18484388066607774 Penalty_loss: 0.18852997104143154\n",
      "Menyimpan Model ....\n",
      "Epoch :144 Train Loss: 0.3702424742775608 Rec Loss: 0.18356860666630828 Penalty_loss: 0.18667386634731475\n",
      "Menyimpan Model ....\n",
      "Epoch :145 Train Loss: 0.371623075149041 Rec Loss: 0.18396300754072714 Penalty_loss: 0.18766006855864306\n",
      "Epoch :146 Train Loss: 0.4310035909697109 Rec Loss: 0.2102332797604708 Penalty_loss: 0.2207703095461641\n",
      "Epoch :147 Train Loss: 0.39599299907912405 Rec Loss: 0.19541701179339874 Penalty_loss: 0.20057598997515683\n",
      "Epoch :148 Train Loss: 0.3735904759651392 Rec Loss: 0.1852776553500824 Penalty_loss: 0.18831282085263912\n",
      "Epoch :149 Train Loss: 0.37020639697926083 Rec Loss: 0.18184261902102403 Penalty_loss: 0.1883637774830722\n",
      "Menyimpan Model ....\n",
      "Epoch :150 Train Loss: 0.37687028262156 Rec Loss: 0.184148470757111 Penalty_loss: 0.1927218130523605\n",
      "Epoch :151 Train Loss: 0.37357536752765275 Rec Loss: 0.18395229295010165 Penalty_loss: 0.18962307521427163\n",
      "Epoch :152 Train Loss: 0.36415378503235324 Rec Loss: 0.18039086923402334 Penalty_loss: 0.18376291579832987\n",
      "Menyimpan Model ....\n",
      "Epoch :153 Train Loss: 0.36322488162514505 Rec Loss: 0.1771995991810548 Penalty_loss: 0.18602528268167254\n",
      "Menyimpan Model ....\n",
      "Epoch :154 Train Loss: 0.3539812087214419 Rec Loss: 0.17375544732322498 Penalty_loss: 0.18022576274293267\n",
      "Menyimpan Model ....\n",
      "Epoch :155 Train Loss: 0.37091974397094885 Rec Loss: 0.18441073193062782 Penalty_loss: 0.18650901338503678\n",
      "Epoch :156 Train Loss: 0.38256779219955206 Rec Loss: 0.18789585995278796 Penalty_loss: 0.19467193082127035\n",
      "Epoch :157 Train Loss: 0.36685760011326296 Rec Loss: 0.182796011564835 Penalty_loss: 0.18406158767887676\n",
      "Epoch :158 Train Loss: 0.3575963314280522 Rec Loss: 0.1747434720187923 Penalty_loss: 0.1828528579029882\n",
      "Epoch :159 Train Loss: 0.3459435657560065 Rec Loss: 0.1713493701726274 Penalty_loss: 0.1745941934451385\n",
      "Menyimpan Model ....\n",
      "Epoch :160 Train Loss: 0.34951998205019197 Rec Loss: 0.17285016144872928 Penalty_loss: 0.17666981965113354\n",
      "Epoch :161 Train Loss: 0.38381662860284654 Rec Loss: 0.18877340765783981 Penalty_loss: 0.1950432192819307\n",
      "Epoch :162 Train Loss: 0.35646581357078894 Rec Loss: 0.17479903292747176 Penalty_loss: 0.18166678151286833\n",
      "Epoch :163 Train Loss: 0.3501855535527729 Rec Loss: 0.17183383498150778 Penalty_loss: 0.17835171975917657\n",
      "Epoch :164 Train Loss: 0.3318450828938156 Rec Loss: 0.16532311208869274 Penalty_loss: 0.16652197072434485\n",
      "Menyimpan Model ....\n",
      "Epoch :165 Train Loss: 0.3314074691841189 Rec Loss: 0.16223240755403376 Penalty_loss: 0.16917506139250282\n",
      "Menyimpan Model ....\n",
      "Epoch :166 Train Loss: 0.34143116252914985 Rec Loss: 0.16716856791219692 Penalty_loss: 0.17426259374740172\n",
      "Epoch :167 Train Loss: 0.3496105314555521 Rec Loss: 0.17343260772640304 Penalty_loss: 0.1761779232539845\n",
      "Epoch :168 Train Loss: 0.3539313429548424 Rec Loss: 0.1738105968629219 Penalty_loss: 0.18012074680466736\n",
      "Epoch :169 Train Loss: 0.3472869413885839 Rec Loss: 0.16988673078238356 Penalty_loss: 0.1774002104446444\n",
      "Epoch :170 Train Loss: 0.3409946747124195 Rec Loss: 0.16689500940621507 Penalty_loss: 0.17409966498784415\n",
      "Epoch :171 Train Loss: 0.3302421016542583 Rec Loss: 0.16352514971560816 Penalty_loss: 0.1667169504323784\n",
      "Menyimpan Model ....\n",
      "Epoch :172 Train Loss: 0.3267527260456462 Rec Loss: 0.1611279191791403 Penalty_loss: 0.16562480607298108\n",
      "Menyimpan Model ....\n",
      "Epoch :173 Train Loss: 0.33171176146335746 Rec Loss: 0.16175050891897813 Penalty_loss: 0.16996125254437935\n",
      "Epoch :174 Train Loss: 0.3236371971267675 Rec Loss: 0.161852616308333 Penalty_loss: 0.16178458010568758\n",
      "Menyimpan Model ....\n",
      "Epoch :175 Train Loss: 0.31611880288478367 Rec Loss: 0.15594415805226533 Penalty_loss: 0.1601746455452652\n",
      "Menyimpan Model ....\n",
      "Epoch :176 Train Loss: 0.3167613235359289 Rec Loss: 0.15513968703394032 Penalty_loss: 0.16162163523329917\n",
      "Epoch :177 Train Loss: 0.322673833986022 Rec Loss: 0.15638635935718004 Penalty_loss: 0.16628747454806403\n",
      "Epoch :178 Train Loss: 0.3213831481276726 Rec Loss: 0.15700169769115746 Penalty_loss: 0.16438145035573717\n",
      "Epoch :179 Train Loss: 0.3366963580174714 Rec Loss: 0.16546292491827388 Penalty_loss: 0.1712334333367798\n",
      "Epoch :180 Train Loss: 0.3285265335889191 Rec Loss: 0.1622856762307715 Penalty_loss: 0.16624085656462276\n",
      "Epoch :181 Train Loss: 0.3195669518175478 Rec Loss: 0.15680529818661054 Penalty_loss: 0.1627616548188487\n",
      "Epoch :182 Train Loss: 0.31854314276264334 Rec Loss: 0.15721353768770183 Penalty_loss: 0.1613296055501061\n",
      "Epoch :183 Train Loss: 0.3133499231379555 Rec Loss: 0.1541181659867645 Penalty_loss: 0.159231755568893\n",
      "Menyimpan Model ....\n",
      "Epoch :184 Train Loss: 0.3130789347449128 Rec Loss: 0.1526554131889906 Penalty_loss: 0.16042352226866904\n",
      "Menyimpan Model ....\n",
      "Epoch :185 Train Loss: 0.30602519938304107 Rec Loss: 0.15060622264555065 Penalty_loss: 0.1554189763431038\n",
      "Menyimpan Model ....\n",
      "Epoch :186 Train Loss: 0.30441846717529153 Rec Loss: 0.1496769973143403 Penalty_loss: 0.1547414694665646\n",
      "Menyimpan Model ....\n",
      "Epoch :187 Train Loss: 0.30099543771345394 Rec Loss: 0.14893444679316362 Penalty_loss: 0.15206098981315688\n",
      "Menyimpan Model ....\n",
      "Epoch :188 Train Loss: 0.30158154265384896 Rec Loss: 0.14674519439589004 Penalty_loss: 0.15483635007783922\n",
      "Epoch :189 Train Loss: 0.3027243542351893 Rec Loss: 0.14816475209627986 Penalty_loss: 0.1545596011078023\n",
      "Epoch :190 Train Loss: 0.3042620828337207 Rec Loss: 0.1486904657379325 Penalty_loss: 0.1555716179653394\n",
      "Epoch :191 Train Loss: 0.30576210239027835 Rec Loss: 0.15018327185903124 Penalty_loss: 0.15557882918653135\n",
      "Epoch :192 Train Loss: 0.3039660883440199 Rec Loss: 0.15021683420149648 Penalty_loss: 0.1537492567559286\n",
      "Epoch :193 Train Loss: 0.30640383019131057 Rec Loss: 0.14924634270351 Penalty_loss: 0.15715748661824938\n",
      "Epoch :194 Train Loss: 0.30126152540157947 Rec Loss: 0.14887933815563364 Penalty_loss: 0.152382186533199\n",
      "Epoch :195 Train Loss: 0.29280271204378533 Rec Loss: 0.14311951635006284 Penalty_loss: 0.14968319529933588\n",
      "Menyimpan Model ....\n",
      "Epoch :196 Train Loss: 0.28100154483310724 Rec Loss: 0.1390675243075785 Penalty_loss: 0.1419340219510225\n",
      "Menyimpan Model ....\n",
      "Epoch :197 Train Loss: 0.28362937114790693 Rec Loss: 0.1372305672824839 Penalty_loss: 0.14639880196476468\n",
      "Epoch :198 Train Loss: 0.28332029797174796 Rec Loss: 0.13999124987963207 Penalty_loss: 0.143329045716293\n",
      "Epoch :199 Train Loss: 0.2907548099566175 Rec Loss: 0.1440457819618893 Penalty_loss: 0.1467090262508742\n",
      "Epoch :200 Train Loss: 0.2861142638709624 Rec Loss: 0.1392993225278903 Penalty_loss: 0.14681494110548982\n",
      "berhasil menyimpan pkl drive/MyDrive/dataset/model_encoder_decoder/_perform.pkl\n"
     ]
    }
   ],
   "source": [
    "deepsmote.fit(data_oversample, 'cuda')"
   ]
  },
  {
   "cell_type": "markdown",
   "metadata": {
    "id": "6nCIheBOoJi2"
   },
   "source": [
    "#### Timer"
   ]
  },
  {
   "cell_type": "code",
   "execution_count": null,
   "metadata": {
    "colab": {
     "base_uri": "https://localhost:8080/",
     "height": 38
    },
    "id": "zMkx5K5aoM_V",
    "outputId": "3acf9440-4d17-4ced-fccb-c125de7d43c5"
   },
   "outputs": [
    {
     "data": {
      "application/vnd.google.colaboratory.intrinsic+json": {
       "type": "string"
      },
      "text/plain": [
       "'waktu yg di tempuh: 40.11 menit'"
      ]
     },
     "execution_count": 35,
     "metadata": {},
     "output_type": "execute_result"
    }
   ],
   "source": [
    "f'waktu yg di tempuh: {deepsmote.timer:.2f} menit'"
   ]
  },
  {
   "cell_type": "markdown",
   "metadata": {
    "id": "FkwdMkStoL5t"
   },
   "source": [
    "#### Evaluasi"
   ]
  },
  {
   "cell_type": "code",
   "execution_count": null,
   "metadata": {
    "colab": {
     "base_uri": "https://localhost:8080/",
     "height": 472
    },
    "id": "ubdLCSQ6oShF",
    "outputId": "4f99acca-202f-49bd-f593-3fb24d618168"
   },
   "outputs": [
    {
     "data": {
      "image/png": "[encoded data removed]",
      "text/plain": [
       "<Figure size 640x480 with 1 Axes>"
      ]
     },
     "metadata": {},
     "output_type": "display_data"
    }
   ],
   "source": [
    "# write_cachedImg(args['oversample']+\"_perform.pkl\")\n",
    "performa=deepsmote.perform\n",
    "plt.plot(performa['train_loss'], label='Train Loss')\n",
    "plt.plot(performa['rec_loss'], label='Rec Loss')\n",
    "plt.plot(performa['penalty_loss'], label='Penalty Loss')\n",
    "\n",
    "# Menambahkan label dan judul plot\n",
    "plt.xlabel('Epoch')\n",
    "plt.ylabel('Loss')\n",
    "plt.title('Train Loss, Rec Loss, dan Penalty Loss')\n",
    "\n",
    "# Menampilkan legenda\n",
    "plt.legend()\n",
    "\n",
    "# Menampilkan plot\n",
    "plt.show()"
   ]
  },
  {
   "cell_type": "markdown",
   "metadata": {
    "id": "tEZ5zCYLhxGJ"
   },
   "source": [
    "#### *5. Generate Data"
   ]
  },
  {
   "cell_type": "code",
   "execution_count": null,
   "metadata": {
    "colab": {
     "base_uri": "https://localhost:8080/"
    },
    "id": "nRY4I5Ke6Q1-",
    "outputId": "adcd3047-11f7-49b6-df4f-27699991f269"
   },
   "outputs": [
    {
     "name": "stdout",
     "output_type": "stream",
     "text": [
      "berhasil menyimpan pkl drive/MyDrive/dataset/hasil_oversampling/combine_oversampling.pkl\n",
      "berhasil menyimpan pkl drive/MyDrive/dataset/hasil_oversampling/combine_oversampling_with_data.pkl\n",
      "4.3992374142011\n"
     ]
    }
   ],
   "source": [
    "deepsmote.preprocess(data_oversample)\n",
    "deepsmote.generate_samples(1500, args['target_oversample'], 'cpu')"
   ]
  },
  {
   "cell_type": "markdown",
   "metadata": {
    "id": "dOXOFNCIh3Sg"
   },
   "source": [
    "#### *6. Cek Ukuran Data"
   ]
  },
  {
   "cell_type": "code",
   "execution_count": null,
   "metadata": {
    "colab": {
     "base_uri": "https://localhost:8080/",
     "height": 472
    },
    "id": "cM4AAR3x63Pi",
    "outputId": "07fac8ba-4f73-4862-ccd9-1e7b6680b5b5"
   },
   "outputs": [
    {
     "data": {
      "image/png": "[encoded data removed]",
      "text/plain": [
       "<Figure size 640x480 with 1 Axes>"
      ]
     },
     "metadata": {},
     "output_type": "display_data"
    }
   ],
   "source": [
    "\n",
    "n_data = [\n",
    "    data_after_oversample['class'][data_after_oversample['class']==0].size(0),\n",
    "    data_non_oversample['class'][data_non_oversample['class']==1].size(0),\n",
    "    data_non_oversample['class'][data_non_oversample['class']==2].size(0),\n",
    "    data_after_oversample['class'][data_after_oversample['class']==3].size(0)\n",
    "]\n",
    "\n",
    "classes = args['class']\n",
    "plt.bar(classes, n_data, color='blue')\n",
    "plt.xlabel('Kelas')\n",
    "plt.ylabel('Jumlah Data')\n",
    "plt.title('Grafik Jumlah Data')\n",
    "for i, value in enumerate(n_data):\n",
    "    plt.text(i, value + 0.1, str(value), ha='center', va='bottom')"
   ]
  },
  {
   "cell_type": "markdown",
   "metadata": {
    "id": "dNKh_zp4_Fxq"
   },
   "source": [
    "#### Menampilkan Ukuran Data"
   ]
  },
  {
   "cell_type": "code",
   "execution_count": null,
   "metadata": {
    "colab": {
     "base_uri": "https://localhost:8080/",
     "height": 472
    },
    "id": "hdMcW3Jb_JWK",
    "outputId": "9cfe3d16-854e-4ba1-a8d5-5571a99a4297"
   },
   "outputs": [
    {
     "data": {
      "image/png": "[encoded data removed]",
      "text/plain": [
       "<Figure size 640x480 with 1 Axes>"
      ]
     },
     "metadata": {},
     "output_type": "display_data"
    }
   ],
   "source": [
    "\n",
    "n_data = [\n",
    "    data_after_oversample['class'][data_after_oversample['class']==0].size(0),\n",
    "    data_non_to_Balance['class'][data_non_to_Balance['class']==1].size(0),\n",
    "    data_non_to_Balance['class'][data_non_to_Balance['class']==2].size(0),\n",
    "    data_after_oversample['class'][data_after_oversample['class']==3].size(0)\n",
    "]\n",
    "\n",
    "classes = args['class']\n",
    "plt.bar(classes, n_data, color='blue')\n",
    "plt.xlabel('Kelas')\n",
    "plt.ylabel('Jumlah Data')\n",
    "plt.title('Grafik Jumlah Data')\n",
    "for i, value in enumerate(n_data):\n",
    "    plt.text(i, value + 0.1, str(value), ha='center', va='bottom')"
   ]
  },
  {
   "cell_type": "markdown",
   "metadata": {
    "id": "6WCEpHJJiEKy"
   },
   "source": [
    "### d. Melakukan Classification"
   ]
  },
  {
   "cell_type": "markdown",
   "metadata": {
    "id": "s694ULwz0pR2"
   },
   "source": [
    "#### *1. Pembagian Data"
   ]
  },
  {
   "cell_type": "markdown",
   "metadata": {
    "id": "u9tZTqel5iZZ"
   },
   "source": [
    "#### a. Membagi Data Training dan Testing"
   ]
  },
  {
   "cell_type": "code",
   "execution_count": null,
   "metadata": {
    "id": "l5gKG2WivZMn"
   },
   "outputs": [],
   "source": [
    "data_x, data_y = data_ready['images'], data_ready['class']\n",
    "X_train, X_test, y_train, y_test = splitting_data(data_x, data_y, 0.2)"
   ]
  },
  {
   "cell_type": "markdown",
   "metadata": {
    "id": "0evem6hP03go"
   },
   "source": [
    "#### *2. Melihat Persebaran Data"
   ]
  },
  {
   "cell_type": "markdown",
   "metadata": {
    "id": "cI12XckXUsDz"
   },
   "source": [
    "#### *3.Pembagian KFOLD"
   ]
  },
  {
   "cell_type": "code",
   "execution_count": null,
   "metadata": {
    "id": "dA0OH2siUvqL"
   },
   "outputs": [],
   "source": [
    "data_train = write_cachedImg(args['training'])\n",
    "kfold_splitting(data_train['images'],data_train['class'], 5)"
   ]
  },
  {
   "cell_type": "markdown",
   "metadata": {
    "id": "0OVKU21wuvD0"
   },
   "source": [
    "### Skenario 1"
   ]
  },
  {
   "cell_type": "markdown",
   "metadata": {
    "id": "83oYznOcZ7OI"
   },
   "source": [
    "#### Training - Val Fold ke-1"
   ]
  },
  {
   "cell_type": "code",
   "execution_count": null,
   "metadata": {
    "colab": {
     "base_uri": "https://localhost:8080/"
    },
    "id": "j5t-7QX9bqJ5",
    "outputId": "25de1eb5-5806-4764-956d-1c9e23468bb9"
   },
   "outputs": [
    {
     "name": "stdout",
     "output_type": "stream",
     "text": [
      "Training size torch.Size([12800, 224, 224, 3])\n",
      "Validation size torch.Size([3200, 224, 224, 3])\n"
     ]
    }
   ],
   "source": [
    "k=0\n",
    "data_train, data_val = write_cachedImg(args['train_val']+f\"train_fold_{k}.pkl\"), write_cachedImg(args['train_val']+f\"val_fold_{k}.pkl\")\n",
    "print(\"Training size\", data_train['images'].size())\n",
    "print(\"Validation size\", data_val['images'].size())"
   ]
  },
  {
   "cell_type": "code",
   "execution_count": null,
   "metadata": {
    "colab": {
     "base_uri": "https://localhost:8080/"
    },
    "id": "iPkTvKHucpvK",
    "outputId": "f4c413d5-a7b6-4c3d-9931-c11860137fe2",
    "scrolled": true
   },
   "outputs": [
    {
     "name": "stderr",
     "output_type": "stream",
     "text": [
      "Downloading: \"https://github.com/lukemelas/EfficientNet-PyTorch/releases/download/1.0/efficientnet-b0-355c32eb.pth\" to /root/.cache/torch/hub/checkpoints/efficientnet-b0-355c32eb.pth\n",
      "100%|██████████| 20.4M/20.4M [00:00<00:00, 435MB/s]\n"
     ]
    },
    {
     "name": "stdout",
     "output_type": "stream",
     "text": [
      "Loaded pretrained weights for efficientnet-b0\n",
      "fold ke-0\n",
      "Epoch : 1 train loss : 0.8552759443223477 train acc : 0.6415625 val loss : 0.8109029993414879 val acc : 0.6828125 \n",
      "Menyimpan Model\n",
      "Epoch : 2 train loss : 0.608277615532279 train acc : 0.753359375 val loss : 0.6177288608253002 val acc : 0.763125 \n",
      "Menyimpan Model\n",
      "Epoch : 3 train loss : 0.4946631063520908 train acc : 0.805625 val loss : 0.6435261507332325 val acc : 0.763125 \n",
      "Menyimpan Model\n",
      "Epoch : 4 train loss : 0.40465494472533464 train acc : 0.842890625 val loss : 0.7318280959129333 val acc : 0.7596875 \n",
      "Menyimpan Model\n",
      "Epoch : 5 train loss : 0.33501575456932187 train acc : 0.87453125 val loss : 0.8096207278221845 val acc : 0.7690625 \n",
      "Menyimpan Model\n",
      "Epoch : 6 train loss : 0.2745907082594931 train acc : 0.898671875 val loss : 1.051563150882721 val acc : 0.749375 \n",
      "Menyimpan Model\n",
      "Epoch : 7 train loss : 0.22334741584490986 train acc : 0.917890625 val loss : 0.9881277504563332 val acc : 0.76375 \n",
      "Menyimpan Model\n",
      "Epoch : 8 train loss : 0.18600620446028188 train acc : 0.929609375 val loss : 1.169110863804817 val acc : 0.755625 \n",
      "Menyimpan Model\n",
      "Epoch : 9 train loss : 0.15647646833444015 train acc : 0.945078125 val loss : 1.1945301163196564 val acc : 0.76625 \n",
      "Menyimpan Model\n",
      "Epoch : 10 train loss : 0.14160479324171318 train acc : 0.949375 val loss : 1.5662792268395425 val acc : 0.7596875 \n",
      "Menyimpan Model\n",
      "Epoch : 11 train loss : 0.12521714223839808 train acc : 0.9571875 val loss : 1.2587438359856606 val acc : 0.7625 \n",
      "Menyimpan Model\n",
      "Epoch : 12 train loss : 0.12477807102084626 train acc : 0.959375 val loss : 1.5991597813367844 val acc : 0.7509375 \n",
      "Menyimpan Model\n",
      "Epoch : 13 train loss : 0.09595616223610705 train acc : 0.967578125 val loss : 1.4044759234786033 val acc : 0.7634375 \n",
      "Menyimpan Model\n",
      "Epoch : 14 train loss : 0.09288457973838377 train acc : 0.97015625 val loss : 1.7108869336545467 val acc : 0.7584375 \n",
      "Menyimpan Model\n",
      "Epoch : 15 train loss : 0.09182822091905109 train acc : 0.972109375 val loss : 1.8582490643858909 val acc : 0.750625 \n",
      "Menyimpan Model\n",
      "Epoch : 16 train loss : 0.08341877746868703 train acc : 0.9721875 val loss : 1.474611186981201 val acc : 0.75875 \n",
      "Menyimpan Model\n",
      "Epoch : 17 train loss : 0.0859363812149968 train acc : 0.9728125 val loss : 1.6213584809005261 val acc : 0.7615625 \n",
      "Epoch : 18 train loss : 0.07559866861845876 train acc : 0.975234375 val loss : 1.7302459359169007 val acc : 0.765 \n",
      "Menyimpan Model\n",
      "Epoch : 19 train loss : 0.07183199044498906 train acc : 0.976875 val loss : 1.5627804115414619 val acc : 0.768125 \n",
      "Menyimpan Model\n",
      "Epoch : 20 train loss : 0.07794615487739065 train acc : 0.9771875 val loss : 1.953297027349472 val acc : 0.7675 \n",
      "Epoch : 21 train loss : 0.0698027254974113 train acc : 0.97828125 val loss : 1.7906931206583976 val acc : 0.7665625 \n",
      "Menyimpan Model\n",
      "Epoch : 22 train loss : 0.0645551580746178 train acc : 0.980546875 val loss : 2.1879058960080147 val acc : 0.750625 \n",
      "Menyimpan Model\n",
      "Epoch : 23 train loss : 0.06621929954383632 train acc : 0.980078125 val loss : 1.8805398443341255 val acc : 0.7521875 \n",
      "Epoch : 24 train loss : 0.059991368796572714 train acc : 0.98203125 val loss : 1.8666012939810752 val acc : 0.7625 \n",
      "Menyimpan Model\n",
      "Epoch : 25 train loss : 0.05231835066518215 train acc : 0.985078125 val loss : 1.9768749159574508 val acc : 0.764375 \n",
      "Menyimpan Model\n",
      "Epoch : 26 train loss : 0.05531130948494592 train acc : 0.983984375 val loss : 1.7984939193725586 val acc : 0.770625 \n",
      "Epoch : 27 train loss : 0.06086622198509303 train acc : 0.98359375 val loss : 2.4102701151371004 val acc : 0.765 \n",
      "Epoch : 28 train loss : 0.04883463802328606 train acc : 0.985859375 val loss : 2.180568126887083 val acc : 0.7634375 \n",
      "Menyimpan Model\n",
      "Epoch : 29 train loss : 0.06328979711866893 train acc : 0.982734375 val loss : 2.2682507997751236 val acc : 0.7715625 \n",
      "Epoch : 30 train loss : 0.049144838670656554 train acc : 0.98625 val loss : 2.3573488979041577 val acc : 0.766875 \n",
      "Epoch : 31 train loss : 0.04753598718195917 train acc : 0.98640625 val loss : 2.117198440283537 val acc : 0.77 \n",
      "Menyimpan Model\n",
      "Epoch : 32 train loss : 0.04797397823979963 train acc : 0.986796875 val loss : 2.3400627517700197 val acc : 0.756875 \n",
      "Epoch : 33 train loss : 0.05222503668496401 train acc : 0.987109375 val loss : 2.6359504222869874 val acc : 0.75625 \n",
      "Epoch : 34 train loss : 0.048340747465247205 train acc : 0.988359375 val loss : 2.6822263556718826 val acc : 0.7575 \n",
      "Epoch : 35 train loss : 0.045199291570471124 train acc : 0.989140625 val loss : 2.2287210662662984 val acc : 0.7675 \n",
      "Menyimpan Model\n",
      "Epoch : 36 train loss : 0.05465295985926559 train acc : 0.986484375 val loss : 2.449630571305752 val acc : 0.76 \n",
      "Epoch : 37 train loss : 0.04680045663252379 train acc : 0.98859375 val loss : 2.613871299624443 val acc : 0.7740625 \n",
      "Epoch : 38 train loss : 0.04033201891420411 train acc : 0.989296875 val loss : 2.505019851922989 val acc : 0.77 \n",
      "Menyimpan Model\n",
      "Epoch : 39 train loss : 0.03388859974652832 train acc : 0.991015625 val loss : 2.8096463465690613 val acc : 0.75625 \n",
      "Menyimpan Model\n",
      "Epoch : 40 train loss : 0.04205097113459515 train acc : 0.989921875 val loss : 2.689187932014465 val acc : 0.7675 \n",
      "Epoch : 41 train loss : 0.034883746620583675 train acc : 0.99109375 val loss : 2.676782831847668 val acc : 0.7684375 \n",
      "Epoch : 42 train loss : 0.04290876753818285 train acc : 0.98984375 val loss : 3.0830744817852973 val acc : 0.76375 \n",
      "Epoch : 43 train loss : 0.0487529482953947 train acc : 0.98890625 val loss : 2.8546761041879654 val acc : 0.7721875 \n",
      "Epoch : 44 train loss : 0.04160809806008798 train acc : 0.99 val loss : 3.253382405936718 val acc : 0.755625 \n",
      "Epoch : 45 train loss : 0.0371894592443443 train acc : 0.99078125 val loss : 2.5076143735647203 val acc : 0.7753125 \n",
      "Epoch : 46 train loss : 0.03661952057653256 train acc : 0.99125 val loss : 3.1541773295402527 val acc : 0.768125 \n",
      "Epoch : 47 train loss : 0.03431315471256915 train acc : 0.99125 val loss : 2.8721522283554077 val acc : 0.765625 \n",
      "Epoch : 48 train loss : 0.0381985415941171 train acc : 0.991328125 val loss : 2.6403260308504106 val acc : 0.768125 \n",
      "Epoch : 49 train loss : 0.03439376958687869 train acc : 0.991640625 val loss : 2.849785007238388 val acc : 0.778125 \n",
      "Early stopping after 49 epochs.\n",
      "berhasil menyimpan pkl drive/MyDrive/dataset/model_efficientnet/perform_lib_eff_b0_0_fold.pkl\n",
      "fold -0 acc : 0.778124988079071 precision : 0.7775922417640686 recall : 0.7781250029802322 f1 : 0.7764502614736557\n"
     ]
    }
   ],
   "source": [
    "model = EfficientNetClassification(\"b0\")\n",
    "sistem = Classification(model,50)\n",
    "sistem.fit(data_train['images'].to(torch.float32), data_train['class'], data_val['images'].to(torch.float32), data_val['class'], k, \"cuda\")"
   ]
  },
  {
   "cell_type": "markdown",
   "metadata": {
    "id": "YSc4hgXWa_Tv"
   },
   "source": [
    "#### Testing"
   ]
  },
  {
   "cell_type": "code",
   "execution_count": null,
   "metadata": {
    "colab": {
     "base_uri": "https://localhost:8080/"
    },
    "id": "ovFH3hCll-kt",
    "outputId": "3368908a-3302-4f8e-b644-97e93865fc24"
   },
   "outputs": [
    {
     "name": "stdout",
     "output_type": "stream",
     "text": [
      "Testing size torch.Size([4000, 260, 260, 3])\n"
     ]
    }
   ],
   "source": [
    "data_test = write_cachedImg(args['testing'])\n",
    "x_test, y_test = Resize(data_test['images'], (260,260)), data_test['class']\n",
    "print(\"Testing size\", x_test.size())"
   ]
  },
  {
   "cell_type": "code",
   "execution_count": null,
   "metadata": {
    "colab": {
     "base_uri": "https://localhost:8080/",
     "height": 668
    },
    "id": "LiRCRAglmWj6",
    "outputId": "758013ca-e532-43ff-888c-d2d356cb93ca"
   },
   "outputs": [
    {
     "name": "stdout",
     "output_type": "stream",
     "text": [
      "Hasil Testing\n"
     ]
    },
    {
     "data": {
      "image/png": "[encoded data removed]",
      "text/plain": [
       "<Figure size 600x600 with 2 Axes>"
      ]
     },
     "metadata": {},
     "output_type": "display_data"
    },
    {
     "name": "stdout",
     "output_type": "stream",
     "text": [
      "Loss : 5.398692862510681\n",
      "Accuracy : 0.704\n",
      "Precision : 0.7218956500291824\n",
      "Recall : 0.7039999961853027\n",
      "F1-score : 0.7018763422966003\n"
     ]
    }
   ],
   "source": [
    "sistem.predict(x_test.to(torch.float32), y_test, 'cpu')"
   ]
  }
 ],
 "metadata": {
  "accelerator": "GPU",
  "colab": {
   "collapsed_sections": [
    "lydKjs65GigR"
   ],
   "gpuType": "T4",
   "machine_shape": "hm",
   "provenance": [],
   "toc_visible": true
  },
  "kernelspec": {
   "display_name": "Python 3",
   "language": "python",
   "name": "python3"
  },
  "language_info": {
   "codemirror_mode": {
    "name": "ipython",
    "version": 3
   },
   "file_extension": ".py",
   "mimetype": "text/x-python",
   "name": "python",
   "nbconvert_exporter": "python",
   "pygments_lexer": "ipython3",
   "version": "3.8.3"
  }
 },
 "nbformat": 4,
 "nbformat_minor": 1
}
